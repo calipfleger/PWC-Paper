{
 "cells": [
  {
   "cell_type": "markdown",
   "id": "2179bd05-0032-4f10-a74b-e6c477096912",
   "metadata": {
    "tags": []
   },
   "source": [
    "# Linear regression in python: across time dimension for every lat lon grid"
   ]
  },
  {
   "cell_type": "code",
   "execution_count": 1,
   "id": "06b94ba2-5099-4cd6-bd25-32b801d21eaa",
   "metadata": {},
   "outputs": [],
   "source": [
    "#!zip -r TS_months.zip TS_months\n"
   ]
  },
  {
   "cell_type": "code",
   "execution_count": 2,
   "id": "4947dd99-33c6-494d-b1a9-74fae0e5e8a0",
   "metadata": {},
   "outputs": [
    {
     "name": "stdout",
     "output_type": "stream",
     "text": [
      "\tzip warning: name not matched: TS_harm_anthro\n",
      "\n",
      "zip error: Nothing to do! (try: zip -r TS_harm_anthro.zip . -i TS_harm_anthro)\n"
     ]
    }
   ],
   "source": [
    "!zip -r TS_harm_anthro.zip TS_harm_anthro"
   ]
  },
  {
   "cell_type": "markdown",
   "id": "97f818dd-49c8-49ee-b9ba-1132fcee6468",
   "metadata": {},
   "source": [
    "## Load in Dependencies "
   ]
  },
  {
   "cell_type": "code",
   "execution_count": 129,
   "id": "a4e18c01-a1d5-4e04-869e-09e082b72127",
   "metadata": {},
   "outputs": [],
   "source": [
    "import xarray as xr\n",
    "import numpy as np\n",
    "import cftime\n",
    "import pandas as pd\n",
    "from numpy import *\n",
    "from scipy import stats\n",
    "from netCDF4 import Dataset as nc\n",
    "from netCDF4 import num2date\n",
    "import netCDF4\n",
    "import datetime\n",
    "from tqdm import tqdm\n",
    "import matplotlib as mpl\n",
    "import matplotlib.pyplot as plt #python plotting package\n",
    "from matplotlib import cm\n",
    "import matplotlib.colors as mcolors\n",
    "from colorspacious import cspace_converter\n",
    "from collections import OrderedDict\n",
    "cmaps = OrderedDict()\n",
    "import cartopy.crs as ccrs\n",
    "import cartopy.feature as cfeature\n",
    "#import nctoolkit\n",
    "import matplotlib.pyplot as plt\n",
    "import matplotlib.ticker as mticker\n",
    "import cartopy.crs as ccrs\n",
    "from cartopy.mpl.gridliner import LONGITUDE_FORMATTER, LATITUDE_FORMATTER\n",
    "import cartopy.feature as cpf\n",
    "from cartopy.mpl.ticker import LongitudeFormatter, LatitudeFormatter\n",
    "from shapely import geometry\n",
    "from collections import namedtuple\n",
    "from shapely.geometry.polygon import LinearRing\n",
    "from shapely.geometry.polygon import Polygon"
   ]
  },
  {
   "cell_type": "markdown",
   "id": "11b5140d-3b0e-4f6b-a393-53e246c462de",
   "metadata": {},
   "source": [
    "## Plotting Parameters "
   ]
  },
  {
   "cell_type": "code",
   "execution_count": 130,
   "id": "9084adf8-01de-4889-a181-c34616a5941a",
   "metadata": {},
   "outputs": [],
   "source": [
    "# Set for each variable\n",
    "variable = 'd16Op'\n",
    "plt_ylabel = \"d16O Precipitation (per mill)\""
   ]
  },
  {
   "cell_type": "code",
   "execution_count": 131,
   "id": "9de832b5-0f2d-4228-88eb-bba5f821a016",
   "metadata": {},
   "outputs": [],
   "source": [
    "months = ['January', 'February', 'March', 'April', 'May', 'June', 'July', 'August', 'September', 'October', 'November', 'December']\n",
    "colors = ['black', 'red', 'orange', 'grey']\n",
    "var_name = ['Full', 'GHG', 'OZA', 'ANTHRO']"
   ]
  },
  {
   "cell_type": "code",
   "execution_count": 132,
   "id": "e0ac5a0b-22dd-4b44-805e-4d2dc10b613b",
   "metadata": {},
   "outputs": [],
   "source": [
    "def clim_plot(c,a):\n",
    "    cl = ensav(c[i])\n",
    "    an = ensav(a[i])\n",
    "    ax = fig.add_subplot(4,2, i+1)\n",
    "    plt.plot(np.arange(cl.size), cl,  label='Climatology')\n",
    "    plt.plot(np.arange(an.size),an,  label='Anomalies')\n",
    "    plt.rcParams['font.size'] = '14'"
   ]
  },
  {
   "cell_type": "markdown",
   "id": "623a6545-7fda-4414-a060-bc1fd9c2a25a",
   "metadata": {
    "tags": []
   },
   "source": [
    "## Set Paths"
   ]
  },
  {
   "cell_type": "code",
   "execution_count": 133,
   "id": "314469f2-6c32-4a0e-acd9-00af5cbf1bac",
   "metadata": {},
   "outputs": [],
   "source": [
    "## Set Paths\n",
    "basedir_atm = '/glade/campaign/cesm/collections/cesmLME/CESM-CAM5-LME/atm/proc/tseries/monthly/'\n",
    "file_prefix= '.cam.h0.' \n",
    "i_model = '/b.ie12.B1850C5CN.f19_g16.LME.' ## read in 2&3 iLME Ensembles \n",
    "i_model1 = '/b.ie12.B1850CN.f19_g16.' ## read in iLME ens 1\n",
    "model = '/b.e11.BLMTRC5CN.f19_g16.'\n"
   ]
  },
  {
   "cell_type": "code",
   "execution_count": 134,
   "id": "c8b3c52a-5438-4e33-83f0-c5393d5382d3",
   "metadata": {},
   "outputs": [
    {
     "name": "stdout",
     "output_type": "stream",
     "text": [
      "CPU times: user 4.81 s, sys: 270 ms, total: 5.08 s\n",
      "Wall time: 13.2 s\n"
     ]
    }
   ],
   "source": [
    "%%time\n",
    "ens = ''\n",
    "file_suffix= '.185001-200512.nc'\n",
    "\n",
    "var = 'PRECRC_H216Or'\n",
    "dsf = []# initialise array:\n",
    "for member in range(1,2):\n",
    "    id = str(member)\n",
    "    file = id+file_prefix+var+ file_suffix\n",
    "    member = xr.open_dataset(basedir_atm + var+ i_model1+ ens + '00'+file).sel(lat=slice(-30,30),lon=slice(75,290)).PRECRC_H216Or.squeeze()\n",
    "    dsf.append(member)   \n",
    "for member in range(2,3+1):\n",
    "    id = str(member)\n",
    "    file = id+file_prefix+var+ file_suffix\n",
    "    member = xr.open_dataset(basedir_atm + var+ i_model+ ens + '00'+file).sel(lat=slice(-30,30),lon=slice(75,290)).PRECRC_H216Or.squeeze()\n",
    "    dsf.append(member)     \n",
    "post_H216Or = xr.concat(dsf, dim='ensemble')\n",
    "\n",
    "var = 'PRECSL_H216OS'\n",
    "dsf = []# initialise array:\n",
    "for member in range(1,2):\n",
    "    id = str(member)\n",
    "    file = id+file_prefix+var+ file_suffix\n",
    "    member = xr.open_dataset(basedir_atm + var+ i_model1+ ens + '00'+file).sel(lat=slice(-30,30),lon=slice(75,290)).PRECSL_H216OS.squeeze()\n",
    "    dsf.append(member)   \n",
    "for member in range(2,3+1):\n",
    "    id = str(member)\n",
    "    file = id+file_prefix+var+ file_suffix\n",
    "    member = xr.open_dataset(basedir_atm + var+ i_model+ ens + '00'+file).sel(lat=slice(-30,30),lon=slice(75,290)).PRECSL_H216OS.squeeze()\n",
    "    dsf.append(member)     \n",
    "post_H216OS = xr.concat(dsf, dim='ensemble')\n",
    "\n",
    "var = 'PRECRL_H216OR'\n",
    "dsf = []# initialise array:\n",
    "for member in range(1,2):\n",
    "    id = str(member)\n",
    "    file = id+file_prefix+var+ file_suffix\n",
    "    member = xr.open_dataset(basedir_atm + var+ i_model1+ ens + '00'+file).sel(lat=slice(-30,30),lon=slice(75,290)).PRECRL_H216OR.squeeze()\n",
    "    dsf.append(member)   \n",
    "for member in range(2,3+1):\n",
    "    id = str(member)\n",
    "    file = id+file_prefix+var+ file_suffix\n",
    "    member = xr.open_dataset(basedir_atm + var+ i_model+ ens + '00'+file).sel(lat=slice(-30,30),lon=slice(75,290)).PRECRL_H216OR.squeeze()\n",
    "    dsf.append(member)     \n",
    "post_H216OR = xr.concat(dsf, dim='ensemble')\n",
    "\n",
    "var = 'PRECSC_H216Os'\n",
    "dsf = []# initialise array:\n",
    "for member in range(1,2):\n",
    "    id = str(member)\n",
    "    file = id+file_prefix+var+ file_suffix\n",
    "    member = xr.open_dataset(basedir_atm + var+ i_model1+ ens + '00'+file).sel(lat=slice(-30,30),lon=slice(75,290)).PRECSC_H216Os.squeeze()\n",
    "    dsf.append(member)   \n",
    "for member in range(2,3+1):\n",
    "    id = str(member)\n",
    "    file = id+file_prefix+var+ file_suffix\n",
    "    member = xr.open_dataset(basedir_atm + var+ i_model+ ens + '00'+file).sel(lat=slice(-30,30),lon=slice(75,290)).PRECSC_H216Os.squeeze()\n",
    "    dsf.append(member)     \n",
    "post_H216Os = xr.concat(dsf, dim='ensemble')"
   ]
  },
  {
   "cell_type": "code",
   "execution_count": 135,
   "id": "de149027-bb5b-4588-a6db-707b34c74c17",
   "metadata": {},
   "outputs": [
    {
     "name": "stdout",
     "output_type": "stream",
     "text": [
      "CPU times: user 22.8 ms, sys: 55.9 ms, total: 78.7 ms\n",
      "Wall time: 76.6 ms\n"
     ]
    }
   ],
   "source": [
    "%%time \n",
    "post_H216O = post_H216Or + post_H216OR +post_H216Os +post_H216OS  # adll all 16O componen"
   ]
  },
  {
   "cell_type": "code",
   "execution_count": 136,
   "id": "f25d1f06-7864-4e24-b707-b639a74ea090",
   "metadata": {},
   "outputs": [],
   "source": [
    "del post_H216Or \n",
    "del post_H216OR \n",
    "del post_H216Os \n",
    "del post_H216OS "
   ]
  },
  {
   "cell_type": "code",
   "execution_count": 137,
   "id": "cf336fcb-4474-4031-8dde-3a479f754727",
   "metadata": {},
   "outputs": [
    {
     "name": "stdout",
     "output_type": "stream",
     "text": [
      "CPU times: user 4.68 s, sys: 245 ms, total: 4.93 s\n",
      "Wall time: 11.5 s\n"
     ]
    }
   ],
   "source": [
    "%%time\n",
    "ens = ''\n",
    "file_suffix= '.185001-200512.nc'\n",
    "\n",
    "var = 'PRECRC_H218Or'\n",
    "dsf = []# initialise array:\n",
    "for member in range(1,2):\n",
    "    id = str(member)\n",
    "    file = id+file_prefix+var+ file_suffix\n",
    "    member = xr.open_dataset(basedir_atm + var+ i_model1+ ens + '00'+file).sel(lat=slice(-30,30),lon=slice(75,290)).PRECRC_H218Or.squeeze()\n",
    "    dsf.append(member)   \n",
    "for member in range(2,3+1):\n",
    "    id = str(member)\n",
    "    file = id+file_prefix+var+ file_suffix\n",
    "    member = xr.open_dataset(basedir_atm + var+ i_model+ ens + '00'+file).sel(lat=slice(-30,30),lon=slice(75,290)).PRECRC_H218Or.squeeze()\n",
    "    dsf.append(member)     \n",
    "post_H218Or = xr.concat(dsf, dim='ensemble')\n",
    "\n",
    "var = 'PRECSL_H218OS'\n",
    "dsf = []# initialise array:\n",
    "for member in range(1,2):\n",
    "    id = str(member)\n",
    "    file = id+file_prefix+var+ file_suffix\n",
    "    member = xr.open_dataset(basedir_atm + var+ i_model1+ ens + '00'+file).sel(lat=slice(-30,30),lon=slice(75,290)).PRECSL_H218OS.squeeze()\n",
    "    dsf.append(member)   \n",
    "for member in range(2,3+1):\n",
    "    id = str(member)\n",
    "    file = id+file_prefix+var+ file_suffix\n",
    "    member = xr.open_dataset(basedir_atm + var+ i_model+ ens + '00'+file).sel(lat=slice(-30,30),lon=slice(75,290)).PRECSL_H218OS.squeeze()\n",
    "    dsf.append(member)     \n",
    "post_H218OS = xr.concat(dsf, dim='ensemble')\n",
    "\n",
    "var = 'PRECRL_H218OR'\n",
    "dsf = []# initialise array:\n",
    "for member in range(1,2):\n",
    "    id = str(member)\n",
    "    file = id+file_prefix+var+ file_suffix\n",
    "    member = xr.open_dataset(basedir_atm + var+ i_model1+ ens + '00'+file).sel(lat=slice(-30,30),lon=slice(75,290)).PRECRL_H218OR.squeeze()\n",
    "    dsf.append(member)   \n",
    "for member in range(2,3+1):\n",
    "    id = str(member)\n",
    "    file = id+file_prefix+var+ file_suffix\n",
    "    member = xr.open_dataset(basedir_atm + var+ i_model+ ens + '00'+file).sel(lat=slice(-30,30),lon=slice(75,290)).PRECRL_H218OR.squeeze()\n",
    "    dsf.append(member)     \n",
    "post_H218OR = xr.concat(dsf, dim='ensemble')\n",
    "\n",
    "var = 'PRECSC_H218Os'\n",
    "dsf = []# initialise array:\n",
    "for member in range(1,2):\n",
    "    id = str(member)\n",
    "    file = id+file_prefix+var+ file_suffix\n",
    "    member = xr.open_dataset(basedir_atm + var+ i_model1+ ens + '00'+file).sel(lat=slice(-30,30),lon=slice(75,290)).PRECSC_H218Os.squeeze()\n",
    "    dsf.append(member)   \n",
    "for member in range(2,3+1):\n",
    "    id = str(member)\n",
    "    file = id+file_prefix+var+ file_suffix\n",
    "    member = xr.open_dataset(basedir_atm + var+ i_model+ ens + '00'+file).sel(lat=slice(-30,30),lon=slice(75,290)).PRECSC_H218Os.squeeze()\n",
    "    dsf.append(member)     \n",
    "post_H218Os = xr.concat(dsf, dim='ensemble')"
   ]
  },
  {
   "cell_type": "code",
   "execution_count": 138,
   "id": "98d4b227-8f8e-4f3d-b4e3-c2752e2190eb",
   "metadata": {},
   "outputs": [],
   "source": [
    "post_H218O = post_H218Or + post_H218OR +post_H218Os +post_H218OS  # adll all 18O componen"
   ]
  },
  {
   "cell_type": "code",
   "execution_count": 139,
   "id": "623135ae-ebae-4b83-a54c-cadf7116bb32",
   "metadata": {},
   "outputs": [],
   "source": [
    "del post_H218Or\n",
    "del post_H218OR \n",
    "del post_H218Os \n",
    "del post_H218OS "
   ]
  },
  {
   "cell_type": "code",
   "execution_count": 140,
   "id": "8b4d327c-2f80-4c1d-b0b3-8a331ea993a6",
   "metadata": {},
   "outputs": [],
   "source": [
    "## Read in GHG files and Calculate dD"
   ]
  },
  {
   "cell_type": "code",
   "execution_count": 141,
   "id": "740e82b4-8dd9-4a54-8f06-e1448ef9ca28",
   "metadata": {},
   "outputs": [
    {
     "name": "stdout",
     "output_type": "stream",
     "text": [
      "CPU times: user 3.92 s, sys: 354 ms, total: 4.27 s\n",
      "Wall time: 9.53 s\n"
     ]
    }
   ],
   "source": [
    "%%time \n",
    "## GHG\n",
    "ens = 'GHG.'  #set ensemble \n",
    "var = 'PRECRC_H218Or'\n",
    "dsg = []\n",
    "for member in (1,3,4):\n",
    "    id = str(member)\n",
    "    file = id+file_prefix+var+ file_suffix\n",
    "    member = xr.open_dataset(basedir_atm + var+ i_model +ens + '00'+file).sel(lat=slice(-30,30),lon=slice(75,290)).PRECRC_H218Or.squeeze()\n",
    "    dsg.append(member)\n",
    "post_H218Or_ghg = xr.concat(dsg, dim='ensemble')\n",
    "\n",
    "var = 'PRECSL_H218OS'\n",
    "dsg = []\n",
    "for member in (1,3,4):\n",
    "    id = str(member)\n",
    "    file = id+file_prefix+var+ file_suffix\n",
    "    member = xr.open_dataset(basedir_atm + var+ i_model +ens + '00'+file).sel(lat=slice(-30,30),lon=slice(75,290)).PRECSL_H218OS.squeeze()\n",
    "    dsg.append(member)\n",
    "post_H218OS_ghg = xr.concat(dsg, dim='ensemble')\n",
    "\n",
    "var = 'PRECRL_H218OR'\n",
    "dsg = []\n",
    "for member in (1,3,4):\n",
    "    id = str(member)\n",
    "    file = id+file_prefix+var+ file_suffix\n",
    "    member = xr.open_dataset(basedir_atm + var+ i_model +ens + '00'+file).sel(lat=slice(-30,30),lon=slice(75,290)).PRECRL_H218OR.squeeze()\n",
    "    dsg.append(member)\n",
    "post_H218OR_ghg = xr.concat(dsg, dim='ensemble')\n",
    "\n",
    "var = 'PRECSC_H218Os'\n",
    "dsg = []\n",
    "for member in (1,3,4):\n",
    "    id = str(member)\n",
    "    file = id+file_prefix+var+ file_suffix\n",
    "    member = xr.open_dataset(basedir_atm + var+ i_model +ens + '00'+file).sel(lat=slice(-30,30),lon=slice(75,290)).PRECSC_H218Os.squeeze()\n",
    "    dsg.append(member)\n",
    "post_H218Os_ghg = xr.concat(dsg, dim='ensemble')"
   ]
  },
  {
   "cell_type": "code",
   "execution_count": 142,
   "id": "3ee0bab4-81bf-45f0-b41d-9bb06acf3850",
   "metadata": {},
   "outputs": [
    {
     "name": "stdout",
     "output_type": "stream",
     "text": [
      "CPU times: user 47.1 ms, sys: 43.7 ms, total: 90.8 ms\n",
      "Wall time: 89.5 ms\n"
     ]
    }
   ],
   "source": [
    "%%time \n",
    "post_H218O_ghg = post_H218Or_ghg + post_H218OR_ghg +post_H218Os_ghg +post_H218OS_ghg # adll all 18O componen"
   ]
  },
  {
   "cell_type": "code",
   "execution_count": 143,
   "id": "1c2ca50a-a29d-46b8-ae63-3c0b26d66ef7",
   "metadata": {},
   "outputs": [],
   "source": [
    "del post_H218Or_ghg # rC is convective rain \n",
    "del post_H218OR_ghg # L - large scale \n",
    "del post_H218Os_ghg #SC = snow rates convective?\n",
    "del post_H218OS_ghg # SL = snow rates large scale?"
   ]
  },
  {
   "cell_type": "code",
   "execution_count": 144,
   "id": "92f9297e-61c9-44b7-8047-cd196f9af55d",
   "metadata": {},
   "outputs": [
    {
     "name": "stdout",
     "output_type": "stream",
     "text": [
      "CPU times: user 3.82 s, sys: 275 ms, total: 4.09 s\n",
      "Wall time: 10.7 s\n"
     ]
    }
   ],
   "source": [
    "%%time \n",
    "## GHG\n",
    "ens = 'GHG.'  #set ensemble \n",
    "var = 'PRECRC_H216Or'\n",
    "dsg = []\n",
    "for member in (1,3,4):\n",
    "    id = str(member)\n",
    "    file = id+file_prefix+var+ file_suffix\n",
    "    member = xr.open_dataset(basedir_atm + var+ i_model +ens + '00'+file).sel(lat=slice(-30,30),lon=slice(75,290)).PRECRC_H216Or.squeeze()\n",
    "    dsg.append(member)\n",
    "post_H216Or_ghg = xr.concat(dsg, dim='ensemble')\n",
    "\n",
    "var = 'PRECSL_H216OS'\n",
    "dsg = []\n",
    "for member in (1,3,4):\n",
    "    id = str(member)\n",
    "    file = id+file_prefix+var+ file_suffix\n",
    "    member = xr.open_dataset(basedir_atm + var+ i_model +ens + '00'+file).sel(lat=slice(-30,30),lon=slice(75,290)).PRECSL_H216OS.squeeze()\n",
    "    dsg.append(member)\n",
    "post_H216OS_ghg = xr.concat(dsg, dim='ensemble')\n",
    "\n",
    "var = 'PRECRL_H216OR'\n",
    "dsg = []\n",
    "for member in (1,3,4):\n",
    "    id = str(member)\n",
    "    file = id+file_prefix+var+ file_suffix\n",
    "    member = xr.open_dataset(basedir_atm + var+ i_model +ens + '00'+file).sel(lat=slice(-30,30),lon=slice(75,290)).PRECRL_H216OR.squeeze()\n",
    "    dsg.append(member)\n",
    "post_H216OR_ghg = xr.concat(dsg, dim='ensemble')\n",
    "\n",
    "var = 'PRECSC_H216Os'\n",
    "dsg = []\n",
    "for member in (1,3,4):\n",
    "    id = str(member)\n",
    "    file = id+file_prefix+var+ file_suffix\n",
    "    member = xr.open_dataset(basedir_atm + var+ i_model +ens + '00'+file).sel(lat=slice(-30,30),lon=slice(75,290)).PRECSC_H216Os.squeeze()\n",
    "    dsg.append(member)\n",
    "post_H216Os_ghg = xr.concat(dsg, dim='ensemble')"
   ]
  },
  {
   "cell_type": "code",
   "execution_count": 145,
   "id": "dc8253f3-135d-43a2-aa7f-184c15fef391",
   "metadata": {},
   "outputs": [
    {
     "name": "stdout",
     "output_type": "stream",
     "text": [
      "CPU times: user 66.2 ms, sys: 19.3 ms, total: 85.5 ms\n",
      "Wall time: 84.2 ms\n"
     ]
    }
   ],
   "source": [
    "%%time \n",
    "post_H216O_ghg = post_H216Or_ghg + post_H216OR_ghg +post_H216Os_ghg +post_H216OS_ghg # adll all 18O componen"
   ]
  },
  {
   "cell_type": "code",
   "execution_count": 146,
   "id": "61c96564-dad0-4604-abeb-ed92feca6ab8",
   "metadata": {},
   "outputs": [],
   "source": [
    "del post_H216Or_ghg # rC is convective rain \n",
    "del post_H216OR_ghg # L - large scale \n",
    "del post_H216Os_ghg #SC = snow rates convective?\n",
    "del post_H216OS_ghg # SL = snow rates large scale?"
   ]
  },
  {
   "cell_type": "code",
   "execution_count": 147,
   "id": "94cf0664-3eb9-42da-8b92-430aa21ead26",
   "metadata": {},
   "outputs": [
    {
     "name": "stdout",
     "output_type": "stream",
     "text": [
      "CPU times: user 39.2 ms, sys: 28.1 ms, total: 67.4 ms\n",
      "Wall time: 66.5 ms\n"
     ]
    }
   ],
   "source": [
    "%%time\n",
    "var_ghg =  (((post_H218O_ghg/post_H216O_ghg)-1)*1000)"
   ]
  },
  {
   "cell_type": "code",
   "execution_count": 148,
   "id": "a915dffb-44a7-4f12-8ed7-7b4707650032",
   "metadata": {},
   "outputs": [],
   "source": [
    "var_full =  (((post_H218O/post_H216O)-1)*1000)"
   ]
  },
  {
   "cell_type": "code",
   "execution_count": 149,
   "id": "71f4002d-fa8a-41ed-a1db-841b2b1e71f9",
   "metadata": {},
   "outputs": [
    {
     "name": "stdout",
     "output_type": "stream",
     "text": [
      "CPU times: user 6.14 s, sys: 334 ms, total: 6.47 s\n",
      "Wall time: 14.6 s\n"
     ]
    }
   ],
   "source": [
    "%%time\n",
    "# OZA\n",
    "ens = 'O3AER.'\n",
    "var = 'PRECRC_H218Or'\n",
    "dso = []\n",
    "for member in (1,3,4,5):\n",
    "    id = str(member)\n",
    "    file = id+file_prefix+var+ file_suffix\n",
    "    member = xr.open_dataset(basedir_atm + var+ i_model+ ens + '00'+file).sel(lat=slice(-30,30),lon=slice(75,290)).PRECRC_H218Or.squeeze()\n",
    "    dso.append(member)   \n",
    "post_H218Or_oza = xr.concat(dso, dim='ensemble')\n",
    "\n",
    "var = 'PRECSL_H218OS'\n",
    "dso = []\n",
    "for member in (1,3,4,5):\n",
    "    id = str(member)\n",
    "    file = id+file_prefix+var+ file_suffix\n",
    "    member = xr.open_dataset(basedir_atm + var+ i_model+ ens + '00'+file).sel(lat=slice(-30,30),lon=slice(75,290)).PRECSL_H218OS.squeeze()\n",
    "    dso.append(member)   \n",
    "post_H218OS_oza = xr.concat(dso, dim='ensemble')\n",
    "\n",
    "var = 'PRECRL_H218OR'\n",
    "dso = []\n",
    "for member in (1,3,4,5):\n",
    "    id = str(member)\n",
    "    file = id+file_prefix+var+ file_suffix\n",
    "    member = xr.open_dataset(basedir_atm + var+ i_model+ ens + '00'+file).sel(lat=slice(-30,30),lon=slice(75,290)).PRECRL_H218OR.squeeze()\n",
    "    dso.append(member)   \n",
    "post_H218OR_oza = xr.concat(dso, dim='ensemble')\n",
    "\n",
    "var = 'PRECSC_H218Os'\n",
    "dso = []\n",
    "for member in (1,3,4,5):\n",
    "    id = str(member)\n",
    "    file = id+file_prefix+var+ file_suffix\n",
    "    member = xr.open_dataset(basedir_atm + var+ i_model+ ens + '00'+file).sel(lat=slice(-30,30),lon=slice(75,290)).PRECSC_H218Os.squeeze()\n",
    "    dso.append(member)   \n",
    "post_H218Os_oza = xr.concat(dso, dim='ensemble')"
   ]
  },
  {
   "cell_type": "code",
   "execution_count": 150,
   "id": "6d743ced-af2a-4973-8dff-9fa8c5e473a8",
   "metadata": {},
   "outputs": [
    {
     "name": "stdout",
     "output_type": "stream",
     "text": [
      "CPU times: user 48 ms, sys: 55.5 ms, total: 103 ms\n",
      "Wall time: 102 ms\n"
     ]
    }
   ],
   "source": [
    "%%time\n",
    "post_H218O_oza = post_H218Or_oza + post_H218OR_oza +post_H218Os_oza +post_H218OS_oza # adll all 18O componen"
   ]
  },
  {
   "cell_type": "code",
   "execution_count": 151,
   "id": "dc363b3b-7c8a-4a00-8700-55c43cf07bb8",
   "metadata": {},
   "outputs": [],
   "source": [
    "del post_H218Or_oza \n",
    "del post_H218OR_oza \n",
    "del post_H218Os_oza  \n",
    "del post_H218OS_oza  "
   ]
  },
  {
   "cell_type": "code",
   "execution_count": 152,
   "id": "213ff623-ee93-4d75-9675-989091ff40c6",
   "metadata": {},
   "outputs": [
    {
     "name": "stdout",
     "output_type": "stream",
     "text": [
      "CPU times: user 6.15 s, sys: 301 ms, total: 6.45 s\n",
      "Wall time: 12.8 s\n"
     ]
    }
   ],
   "source": [
    "%%time\n",
    "# OZA\n",
    "ens = 'O3AER.'\n",
    "var = 'PRECRC_H216Or'\n",
    "dso = []\n",
    "for member in (1,3,4,5):\n",
    "    id = str(member)\n",
    "    file = id+file_prefix+var+ file_suffix\n",
    "    member = xr.open_dataset(basedir_atm + var+ i_model+ ens + '00'+file).sel(lat=slice(-30,30),lon=slice(75,290)).PRECRC_H216Or.squeeze()\n",
    "    dso.append(member)   \n",
    "post_H216Or_oza = xr.concat(dso, dim='ensemble')\n",
    "\n",
    "var = 'PRECSL_H216OS'\n",
    "dso = []\n",
    "for member in (1,3,4,5):\n",
    "    id = str(member)\n",
    "    file = id+file_prefix+var+ file_suffix\n",
    "    member = xr.open_dataset(basedir_atm + var+ i_model+ ens + '00'+file).sel(lat=slice(-30,30),lon=slice(75,290)).PRECSL_H216OS.squeeze()\n",
    "    dso.append(member)   \n",
    "post_H216OS_oza = xr.concat(dso, dim='ensemble')\n",
    "\n",
    "var = 'PRECRL_H216OR'\n",
    "dso = []\n",
    "for member in (1,3,4,5):\n",
    "    id = str(member)\n",
    "    file = id+file_prefix+var+ file_suffix\n",
    "    member = xr.open_dataset(basedir_atm + var+ i_model+ ens + '00'+file).sel(lat=slice(-30,30),lon=slice(75,290)).PRECRL_H216OR.squeeze()\n",
    "    dso.append(member)   \n",
    "post_H216OR_oza = xr.concat(dso, dim='ensemble')\n",
    "\n",
    "var = 'PRECSC_H216Os'\n",
    "dso = []\n",
    "for member in (1,3,4,5):\n",
    "    id = str(member)\n",
    "    file = id+file_prefix+var+ file_suffix\n",
    "    member = xr.open_dataset(basedir_atm + var+ i_model+ ens + '00'+file).sel(lat=slice(-30,30),lon=slice(75,290)).PRECSC_H216Os.squeeze()\n",
    "    dso.append(member)   \n",
    "post_H216Os_oza = xr.concat(dso, dim='ensemble')"
   ]
  },
  {
   "cell_type": "code",
   "execution_count": 153,
   "id": "675f4fff-09f7-4327-ba50-287e2a80868d",
   "metadata": {},
   "outputs": [
    {
     "name": "stdout",
     "output_type": "stream",
     "text": [
      "CPU times: user 40.7 ms, sys: 63.7 ms, total: 104 ms\n",
      "Wall time: 103 ms\n"
     ]
    }
   ],
   "source": [
    "%%time\n",
    "post_H216O_oza = post_H216Or_oza + post_H216OR_oza +post_H216Os_oza +post_H216OS_oza # adll all 16O componen"
   ]
  },
  {
   "cell_type": "code",
   "execution_count": 154,
   "id": "b30cd414-8af7-4c19-b92e-b08fb43bf0a5",
   "metadata": {},
   "outputs": [],
   "source": [
    "del post_H216Or_oza \n",
    "del post_H216OR_oza \n",
    "del post_H216Os_oza  \n",
    "del post_H216OS_oza  "
   ]
  },
  {
   "cell_type": "code",
   "execution_count": 155,
   "id": "f6eab1a0-5cc7-4224-9038-519f4c614109",
   "metadata": {},
   "outputs": [
    {
     "name": "stdout",
     "output_type": "stream",
     "text": [
      "CPU times: user 44.6 ms, sys: 40.1 ms, total: 84.7 ms\n",
      "Wall time: 84 ms\n"
     ]
    }
   ],
   "source": [
    "%%time\n",
    "var_oza =  (((post_H218O_oza/post_H216O_oza)-1)*1000)"
   ]
  },
  {
   "cell_type": "code",
   "execution_count": 156,
   "id": "6ab9b335-9051-4677-8eff-6b57431b25fe",
   "metadata": {},
   "outputs": [
    {
     "name": "stdout",
     "output_type": "stream",
     "text": [
      "CPU times: user 4.71 s, sys: 357 ms, total: 5.06 s\n",
      "Wall time: 14 s\n"
     ]
    }
   ],
   "source": [
    "%%time\n",
    "ens = 'LULC.'  #Lulc ensemble  \n",
    "file_suffix= '.169001-200512.nc'\n",
    "\n",
    "var = 'PRECRC_H216Or'\n",
    "dsl = []\n",
    "for member in range(1,3+1):\n",
    "    id = str(member)\n",
    "    file = id+file_prefix+var+ file_suffix\n",
    "    member = xr.open_dataset(basedir_atm+ var+ i_model+ ens + '00'+file).sel(lat=slice(-30,30),lon=slice(75,290), time = slice('1850-02-01', '2006-01-01')).PRECRC_H216Or.squeeze()\n",
    "    dsl.append(member)\n",
    "post_H216Or_lulc = xr.concat(dsl, dim='ensemble')\n",
    "\n",
    "var = 'PRECSL_H216OS'\n",
    "dsl = []\n",
    "for member in range(1,3+1):\n",
    "    id = str(member)\n",
    "    file = id+file_prefix+var+ file_suffix\n",
    "    member = xr.open_dataset(basedir_atm+ var+ i_model+ ens + '00'+file).sel(lat=slice(-30,30),lon=slice(75,290), time = slice('1850-02-01', '2006-01-01')).PRECSL_H216OS.squeeze()\n",
    "    dsl.append(member)\n",
    "post_H216OS_lulc = xr.concat(dsl, dim='ensemble')\n",
    "\n",
    "var = 'PRECRL_H216OR' \n",
    "dsl = []\n",
    "for member in range(1,3+1):\n",
    "    id = str(member)\n",
    "    file = id+file_prefix+var+ file_suffix\n",
    "    member = xr.open_dataset(basedir_atm+ var+ i_model+ ens + '00'+file).sel(lat=slice(-30,30),lon=slice(75,290), time = slice('1850-02-01', '2006-01-01')).PRECRL_H216OR.squeeze()\n",
    "    dsl.append(member)\n",
    "post_H216OR_lulc = xr.concat(dsl, dim='ensemble')\n",
    "\n",
    "\n",
    "var = 'PRECSC_H216Os'\n",
    "dsl = []\n",
    "for member in range(1,3+1):\n",
    "    id = str(member)\n",
    "    file = id+file_prefix+var+ file_suffix\n",
    "    member = xr.open_dataset(basedir_atm+ var+ i_model+ ens + '00'+file).sel(lat=slice(-30,30),lon=slice(75,290), time = slice('1850-02-01', '2006-01-01')).PRECSC_H216Os.squeeze()\n",
    "    dsl.append(member)\n",
    "post_H216Os_lulc = xr.concat(dsl, dim='ensemble')\n"
   ]
  },
  {
   "cell_type": "code",
   "execution_count": 157,
   "id": "7e9ab280-2ec1-4e75-b620-9190a501bbcb",
   "metadata": {},
   "outputs": [
    {
     "name": "stdout",
     "output_type": "stream",
     "text": [
      "CPU times: user 51.9 ms, sys: 28.2 ms, total: 80 ms\n",
      "Wall time: 78 ms\n"
     ]
    }
   ],
   "source": [
    "%%time \n",
    "post_H216O_lulc = post_H216Or_lulc + post_H216OR_lulc +post_H216Os_lulc +post_H216OS_lulc # adll all 16O componen"
   ]
  },
  {
   "cell_type": "code",
   "execution_count": 158,
   "id": "2b3fd0e4-25df-4133-9f18-764ab9258e94",
   "metadata": {},
   "outputs": [],
   "source": [
    "del post_H216Or_lulc \n",
    "del post_H216OR_lulc \n",
    "del post_H216Os_lulc  \n",
    "del post_H216OS_lulc  "
   ]
  },
  {
   "cell_type": "code",
   "execution_count": 159,
   "id": "b2b2246f-77c2-461d-86cd-970df916e25e",
   "metadata": {},
   "outputs": [
    {
     "name": "stdout",
     "output_type": "stream",
     "text": [
      "CPU times: user 4.85 s, sys: 284 ms, total: 5.13 s\n",
      "Wall time: 13.4 s\n"
     ]
    }
   ],
   "source": [
    "%%time\n",
    "ens = 'LULC.'  #Lulc ensemble  \n",
    "file_suffix= '.169001-200512.nc'\n",
    "\n",
    "var = 'PRECRC_H218Or'\n",
    "dsl = []\n",
    "for member in range(1,3+1):\n",
    "    id = str(member)\n",
    "    file = id+file_prefix+var+ file_suffix\n",
    "    member = xr.open_dataset(basedir_atm+ var+ i_model+ ens + '00'+file).sel(lat=slice(-30,30),lon=slice(75,290), time = slice('1850-02-01', '2006-01-01')).PRECRC_H218Or.squeeze()\n",
    "    dsl.append(member)\n",
    "post_H218Or_lulc = xr.concat(dsl, dim='ensemble')\n",
    "\n",
    "var = 'PRECSL_H218OS'\n",
    "dsl = []\n",
    "for member in range(1,3+1):\n",
    "    id = str(member)\n",
    "    file = id+file_prefix+var+ file_suffix\n",
    "    member = xr.open_dataset(basedir_atm+ var+ i_model+ ens + '00'+file).sel(lat=slice(-30,30),lon=slice(75,290), time = slice('1850-02-01', '2006-01-01')).PRECSL_H218OS.squeeze()\n",
    "    dsl.append(member)\n",
    "post_H218OS_lulc = xr.concat(dsl, dim='ensemble')\n",
    "\n",
    "var = 'PRECRL_H218OR' \n",
    "dsl = []\n",
    "for member in range(1,3+1):\n",
    "    id = str(member)\n",
    "    file = id+file_prefix+var+ file_suffix\n",
    "    member = xr.open_dataset(basedir_atm+ var+ i_model+ ens + '00'+file).sel(lat=slice(-30,30),lon=slice(75,290), time = slice('1850-02-01', '2006-01-01')).PRECRL_H218OR.squeeze()\n",
    "    dsl.append(member)\n",
    "post_H218OR_lulc = xr.concat(dsl, dim='ensemble')\n",
    "\n",
    "\n",
    "var = 'PRECSC_H218Os'\n",
    "dsl = []\n",
    "for member in range(1,3+1):\n",
    "    id = str(member)\n",
    "    file = id+file_prefix+var+ file_suffix\n",
    "    member = xr.open_dataset(basedir_atm+ var+ i_model+ ens + '00'+file).sel(lat=slice(-30,30),lon=slice(75,290), time = slice('1850-02-01', '2006-01-01')).PRECSC_H218Os.squeeze()\n",
    "    dsl.append(member)\n",
    "post_H218Os_lulc = xr.concat(dsl, dim='ensemble')\n"
   ]
  },
  {
   "cell_type": "code",
   "execution_count": 160,
   "id": "50f261e1-2e3e-400a-a8dc-ac352f2d21ae",
   "metadata": {},
   "outputs": [
    {
     "name": "stdout",
     "output_type": "stream",
     "text": [
      "CPU times: user 16.4 ms, sys: 63.6 ms, total: 80.1 ms\n",
      "Wall time: 78.8 ms\n"
     ]
    }
   ],
   "source": [
    "%%time \n",
    "post_H218O_lulc = post_H218Or_lulc + post_H218OR_lulc +post_H218Os_lulc +post_H218OS_lulc # adll all 18O componen"
   ]
  },
  {
   "cell_type": "code",
   "execution_count": 161,
   "id": "9eb794fa-3209-423d-9c9d-cee7dce812a3",
   "metadata": {},
   "outputs": [],
   "source": [
    "del post_H218Or_lulc \n",
    "del post_H218OR_lulc \n",
    "del post_H218Os_lulc  \n",
    "del post_H218OS_lulc  "
   ]
  },
  {
   "cell_type": "code",
   "execution_count": 162,
   "id": "4b47c73e-7dbc-45a5-a64e-91bfbcadad26",
   "metadata": {},
   "outputs": [
    {
     "name": "stdout",
     "output_type": "stream",
     "text": [
      "CPU times: user 32.6 ms, sys: 31.7 ms, total: 64.4 ms\n",
      "Wall time: 63.6 ms\n"
     ]
    }
   ],
   "source": [
    "%%time\n",
    "var_lulc =  (((post_H218O_lulc/post_H216O_lulc)-1)*1000)"
   ]
  },
  {
   "cell_type": "code",
   "execution_count": 186,
   "id": "51ccf566-6d97-45f1-a3a7-40275222011f",
   "metadata": {},
   "outputs": [],
   "source": [
    "var_anthro = xr.concat([var_ghg, var_oza, var_lulc], dim = 'ensemble')"
   ]
  },
  {
   "cell_type": "code",
   "execution_count": 164,
   "id": "3c9f78af-9d9c-4ce8-9dcf-988aa7a18180",
   "metadata": {},
   "outputs": [],
   "source": [
    "# dH Control \n",
    "cntl_H218Or = xr.open_dataset('/glade/campaign/cesm/collections/cesmLME/CESM-CAM5-LME/atm/proc/tseries/monthly/H218Or/b.ie12.B1850CN.f19_g16.850cntl.001.cam.h0.H218Or.065001-084912.nc').sel(lat=slice(-30,30),lon=slice(75,290)).H218Or.squeeze() #AttributeError: 'CFTimeIndex' object has no attribute '_cache'\n",
    "cntl_H216Or = xr.open_dataset('/glade/campaign/cesm/collections/cesmLME/CESM-CAM5-LME/atm/proc/tseries/monthly/H216Or/b.ie12.B1850CN.f19_g16.850cntl.001.cam.h0.H216Or.065001-084912.nc').sel(lat=slice(-30,30),lon=slice(75,290)).H216Or.squeeze()\n",
    "\n",
    "cntl_H218OR = xr.open_dataset('/glade/campaign/cesm/collections/cesmLME/CESM-CAM5-LME/atm/proc/tseries/monthly/H218OR/b.ie12.B1850CN.f19_g16.850cntl.001.cam.h0.H218OR.065001-084912.nc').sel(lat=slice(-30,30),lon=slice(75,290)).H218OR.squeeze() #AttributeError: 'CFTimeIndex' object has no attribute '_cache'\n",
    "cntl_H216OR = xr.open_dataset('/glade/campaign/cesm/collections/cesmLME/CESM-CAM5-LME/atm/proc/tseries/monthly/H216OR/b.ie12.B1850CN.f19_g16.850cntl.001.cam.h0.H216OR.065001-084912.nc').sel(lat=slice(-30,30),lon=slice(75,290)).H216OR.squeeze()\n",
    "\n",
    "cntl_H218Os = xr.open_dataset('/glade/campaign/cesm/collections/cesmLME/CESM-CAM5-LME/atm/proc/tseries/monthly/H218Os/b.ie12.B1850CN.f19_g16.850cntl.001.cam.h0.H218Os.065001-084912.nc').sel(lat=slice(-30,30),lon=slice(75,290)).H218Os.squeeze() #AttributeError: 'CFTimeIndex' object has no attribute '_cache'\n",
    "cntl_H216Os = xr.open_dataset('/glade/campaign/cesm/collections/cesmLME/CESM-CAM5-LME/atm/proc/tseries/monthly/H216Os/b.ie12.B1850CN.f19_g16.850cntl.001.cam.h0.H216Os.065001-084912.nc').sel(lat=slice(-30,30),lon=slice(75,290)).H216Os.squeeze()\n",
    "\n",
    "cntl_H218OS = xr.open_dataset('/glade/campaign/cesm/collections/cesmLME/CESM-CAM5-LME/atm/proc/tseries/monthly/H218OS/b.ie12.B1850CN.f19_g16.850cntl.001.cam.h0.H218OS.065001-084912.nc').sel(lat=slice(-30,30),lon=slice(75,290)).H218OS.squeeze() #AttributeError: 'CFTimeIndex' object has no attribute '_cache'\n",
    "cntl_H216OS = xr.open_dataset('/glade/campaign/cesm/collections/cesmLME/CESM-CAM5-LME/atm/proc/tseries/monthly/H216OS/b.ie12.B1850CN.f19_g16.850cntl.001.cam.h0.H216OS.065001-084912.nc').sel(lat=slice(-30,30),lon=slice(75,290)).H216OS.squeeze()\n",
    "\n",
    "cntl_H218OI = xr.open_dataset('/glade/campaign/cesm/collections/cesmLME/CESM-CAM5-LME/atm/proc/tseries/monthly/H218OI/b.ie12.B1850CN.f19_g16.850cntl.001.cam.h0.H218OI.065001-084912.nc').sel(lat=slice(-30,30),lon=slice(75,290)).H218OI.squeeze() #AttributeError: 'CFTimeIndex' object has no attribute '_cache'\n",
    "cntl_H216OI = xr.open_dataset('/glade/campaign/cesm/collections/cesmLME/CESM-CAM5-LME/atm/proc/tseries/monthly/H216OI/b.ie12.B1850CN.f19_g16.850cntl.001.cam.h0.H216OI.065001-084912.nc').sel(lat=slice(-30,30),lon=slice(75,290)).H216OI.squeeze()\n"
   ]
  },
  {
   "cell_type": "code",
   "execution_count": null,
   "id": "b4cd01d9-0283-4677-8c2a-734c89d304b3",
   "metadata": {},
   "outputs": [],
   "source": [
    "#calculate Climatology"
   ]
  },
  {
   "cell_type": "code",
   "execution_count": 165,
   "id": "023849b9-b578-4fa9-9510-ab905ae13aa3",
   "metadata": {},
   "outputs": [],
   "source": [
    "## Climatology Definition \n",
    "def clim(c): \n",
    "    clim_var = c.groupby('time.month').mean('time')\n",
    "    anom_var = c.groupby('time.month') - clim_var\n",
    "    anom_var= anom_var.compute()\n",
    "    return anom_var"
   ]
  },
  {
   "cell_type": "code",
   "execution_count": 187,
   "id": "fb020280-caa0-4674-b75d-ba788eaa7467",
   "metadata": {},
   "outputs": [
    {
     "name": "stdout",
     "output_type": "stream",
     "text": [
      "CPU times: user 2.24 s, sys: 1.21 s, total: 3.45 s\n",
      "Wall time: 3.47 s\n"
     ]
    }
   ],
   "source": [
    "%%time\n",
    "anom_var = clim(var_full)\n",
    "anom_var_ghg = clim(var_ghg)\n",
    "anom_var_lulc = clim(var_lulc)\n",
    "anom_var_oza = clim(var_oza)\n",
    "anom_var_anthro = clim(var_anthro)"
   ]
  },
  {
   "cell_type": "code",
   "execution_count": 166,
   "id": "320f3052-4bff-419a-be9b-1819f795dd6f",
   "metadata": {},
   "outputs": [],
   "source": [
    "def ensav(e):\n",
    "    ensav = e.mean(dim = 'ensemble')\n",
    "    return ensav"
   ]
  },
  {
   "cell_type": "code",
   "execution_count": 167,
   "id": "c3853707-91fa-4793-8abf-df411c76549f",
   "metadata": {},
   "outputs": [],
   "source": [
    "def weights(w):\n",
    "    weight= np.cos(np.deg2rad(w.lat))\n",
    "    weight.name = \"weights\"\n",
    "    var_weighted = w.weighted(weight)\n",
    "    return var_weighted"
   ]
  },
  {
   "cell_type": "code",
   "execution_count": 168,
   "id": "f13cefdc-7aeb-4696-9a14-3dab4720f012",
   "metadata": {},
   "outputs": [],
   "source": [
    "def pwci(c):\n",
    "    east = c.sel(lat=slice(-5,5), lon=slice(210,270))\n",
    "    west = c.sel(lat=slice(-5,5), lon=slice(90,150))\n",
    "    east_weight = weights(east)\n",
    "    west_weight = weights(west) \n",
    "    avg_east = east_weight.mean(('lat', 'lon'))\n",
    "    avg_west = west_weight.mean(('lat', 'lon'))\n",
    "    pwc = (avg_east- avg_west).compute()\n",
    "    \n",
    "    east_post = avg_east.groupby('time.month').mean('time')\n",
    "    west_post = avg_west.groupby('time.month').mean('time')\n",
    "    pwc_post = pwc.groupby('time.month').mean('time')\n",
    "    \n",
    "    return pwc_post, east_post, west_post"
   ]
  },
  {
   "cell_type": "code",
   "execution_count": 188,
   "id": "8a515754-036f-4148-98b5-d5b96485c09b",
   "metadata": {},
   "outputs": [],
   "source": [
    "pwc_post, east_post, west_post  = pwci(var_full)\n",
    "pwc_post_ghg, east_post_ghg, west_post_ghg = pwci(var_ghg)\n",
    "pwc_post_oza, east_post_oza, west_post_oza  = pwci(var_oza)\n",
    "pwc_post_lulc, east_post_lulc, west_post_lulc  = pwci(var_lulc)\n",
    "pwc_post_anthro, east_post_anthro, west_post_anthro  = pwci(var_anthro)"
   ]
  },
  {
   "cell_type": "markdown",
   "id": "aff54df6-aff6-4093-a23d-aad83da8ff9d",
   "metadata": {
    "tags": []
   },
   "source": [
    "## Define functions to do Harmonic Analysis"
   ]
  },
  {
   "cell_type": "markdown",
   "id": "7cef9bfa-fdd5-4a0e-8bd0-14a8821bf400",
   "metadata": {},
   "source": [
    "# Calculate PWC index Regaular Climatology "
   ]
  },
  {
   "cell_type": "code",
   "execution_count": 189,
   "id": "40c96f63-ee0b-47f4-9900-91414ad24bb4",
   "metadata": {},
   "outputs": [],
   "source": [
    "def pwc_clim(c):\n",
    "    p = c.groupby('time.month').mean('time')\n",
    "    east=  p.sel(lat=slice(-5,5), lon=slice(210,270))  # \n",
    "    west = p.sel(lat=slice(-5,5), lon=slice(90,150))\n",
    "    avg_east = east.mean(('lat', 'lon'))\n",
    "    avg_west = west.mean(('lat', 'lon'))\n",
    "    pwc = (avg_east - avg_west).compute()\n",
    "    pwc= pwc.compute()\n",
    "    return pwc, avg_east, avg_west"
   ]
  },
  {
   "cell_type": "code",
   "execution_count": 190,
   "id": "007462b3-a487-4e39-9943-d2fb23b8eb81",
   "metadata": {},
   "outputs": [
    {
     "name": "stdout",
     "output_type": "stream",
     "text": [
      "CPU times: user 1.95 s, sys: 1.03 s, total: 2.98 s\n",
      "Wall time: 2.98 s\n"
     ]
    }
   ],
   "source": [
    "%%time\n",
    "pwc_var, pwc_var_east,pwc_var_west  = pwc_clim(var_full)\n",
    "pwc_lulc_var, pwc_lulc_var_east,pwc_lulc_var_west = pwc_clim(var_lulc)\n",
    "pwc_ghg_var, pwc_ghg_var_east,pwc_ghg_var_west = pwc_clim(var_ghg)\n",
    "pwc_oza_var, pwc_oza_var_east,pwc_oza_var_west = pwc_clim(var_oza)\n",
    "pwc_anthro_var, pwc_anthro_var_east,pwc_anthro_var_west = pwc_clim(var_anthro)"
   ]
  },
  {
   "cell_type": "markdown",
   "id": "9d0dfafa-4d9e-4493-88c4-f580e8bdb65e",
   "metadata": {},
   "source": [
    "# Make an index for the different forcings (pwc index, eastern box, western box)"
   ]
  },
  {
   "cell_type": "code",
   "execution_count": 191,
   "id": "6cf37255-fa9a-4eaa-9682-6208fe2e6d68",
   "metadata": {},
   "outputs": [],
   "source": [
    "pwc_in = [pwc_var, pwc_ghg_var,  pwc_oza_var, pwc_oza_var pwc_anthro_var]\n",
    "pwc_east = [pwc_var_east,pwc_ghg_var_east, pwc_oza_var_east, pwc_anthro_var_east] \n",
    "pwc_west = [pwc_var_west,pwc_ghg_var_west, pwc_oza_var_west, pwc_anthro_var_west] "
   ]
  },
  {
   "cell_type": "code",
   "execution_count": 192,
   "id": "ba7b5467-7114-4afa-b223-12a028ec8fd2",
   "metadata": {},
   "outputs": [],
   "source": [
    "## Get the lengths of lat, lon and time\n",
    "nlon=len(var_full.lon)\n",
    "nlat=len(var_full.lat)\n",
    "ntime=len(var_full.time)\n",
    "lon = var_full.lon\n",
    "lat = var_full.lat\n",
    "time = var_full.time\n",
    "post_time = var_oza.time\n",
    "ntime_post = len(var_oza.time)"
   ]
  },
  {
   "cell_type": "markdown",
   "id": "e71dc95f-1fe5-48a1-99a3-e13b44f1bf82",
   "metadata": {},
   "source": [
    "# Calculate full LME harmonics PWC index"
   ]
  },
  {
   "cell_type": "code",
   "execution_count": 175,
   "id": "da3589ec-ef1d-46ef-aede-6ed4c78b1b7f",
   "metadata": {},
   "outputs": [],
   "source": [
    "tlen = len(pwc_var[0])\n",
    "tlen_post = len(anom_var_oza[0])"
   ]
  },
  {
   "cell_type": "code",
   "execution_count": 176,
   "id": "f68d42f0-916f-4224-ae47-4cc48f29fc4d",
   "metadata": {},
   "outputs": [],
   "source": [
    "## Create time variables to calculate annual mean SLP\n",
    "mo=12\n",
    "yr=ntime//mo\n",
    "post_yr = ntime_post//mo\n",
    "post_year=linspace(1850,2005,156)"
   ]
  },
  {
   "cell_type": "code",
   "execution_count": 177,
   "id": "8f96acfc-9cca-4197-8b1b-15643bf0d16e",
   "metadata": {},
   "outputs": [],
   "source": [
    "def full_harm(tseries):\n",
    "    ''' calculates sum of first two harmonics to approximate annual cycle'''\n",
    "    mtot = 12\n",
    "    a0 = tseries.mean().item() # calculate mean of series\n",
    "    t = np.arange(0, mtot, 1, dtype='float')\n",
    "    omegas = []\n",
    "    coef_a = []\n",
    "    coef_b = [] \n",
    "    # compute coefficients\n",
    "    for p in np.arange(1, 4):\n",
    "        omegas.append((2.*np.pi*(p))/(mtot))\n",
    "        coef_a.append((2./mtot)*(tseries*np.cos((2*np.pi*p*t)/mtot)).sum())\n",
    "        coef_b.append((2./mtot)*(tseries*np.sin((2*np.pi*p*t)/mtot)).sum())\n",
    "    ## first harmonic\n",
    "    tmp1 = coef_a[0].item()*np.cos(omegas[0]*t) + coef_b[0].item()*np.sin(omegas[0]*t)\n",
    "    hg = a0 + tmp1\n",
    "    b1.append(hg)\n",
    "    ## second harmonic\n",
    "    tmp2 = coef_a[1].item()*np.cos(omegas[1]*t) + coef_b[1].item()*np.sin(omegas[1]*t)\n",
    "    hgg = a0 + tmp2\n",
    "    b2.append(hgg)\n",
    "    ## first plus second harmonic\n",
    "    h = a0 + tmp1 + tmp2\n",
    "    b3.append(h)\n",
    "    b5 = xr.DataArray(b3, dims = ['ensemble', 'month'])\n",
    "    avgt = xr.concat(b5, dim= 'ensemble').compute()\n",
    "    cor_con = avgt.mean(dim = 'ensemble')  \n",
    "    return(b1,b2,cor_con)"
   ]
  },
  {
   "cell_type": "markdown",
   "id": "d37326b3-e862-4f3a-8865-0830a9fe7d78",
   "metadata": {
    "tags": []
   },
   "source": [
    "# PWC POST industrial Climatology"
   ]
  },
  {
   "cell_type": "code",
   "execution_count": 179,
   "id": "0bada1f2-7a81-4b5e-ac6a-aa20dfe6ad9c",
   "metadata": {
    "tags": []
   },
   "outputs": [],
   "source": [
    "b1=[]\n",
    "b2 =[]\n",
    "b3=[]\n",
    "for i in range(len(pwc_var_west)):\n",
    "               test, test2, avg_full = full_harm(pwc_post[i])"
   ]
  },
  {
   "cell_type": "code",
   "execution_count": 180,
   "id": "b3a309e0-530d-40a5-87ae-8069e1556ea9",
   "metadata": {},
   "outputs": [],
   "source": [
    "b1=[]\n",
    "b2 =[]\n",
    "b3=[]\n",
    "for i in range(len(pwc_post_ghg)):\n",
    "               test, test2, avg_ghg = full_harm(pwc_post_ghg[i])"
   ]
  },
  {
   "cell_type": "code",
   "execution_count": 181,
   "id": "5ce8bc88-9527-453c-870c-76e3f30e78f3",
   "metadata": {},
   "outputs": [],
   "source": [
    "b1=[]\n",
    "b2 =[]\n",
    "b3=[]\n",
    "for i in range(len(pwc_post_lulc)):\n",
    "    test, test2, avg_lulc = full_harm(pwc_post_lulc[i])"
   ]
  },
  {
   "cell_type": "code",
   "execution_count": 182,
   "id": "4940ea31-ec4f-4961-8500-60c0ad6261b4",
   "metadata": {},
   "outputs": [],
   "source": [
    "b1=[]\n",
    "b2 =[]\n",
    "b3=[]\n",
    "for i in range(len(pwc_post_oza)):\n",
    "               test, test2, avg_oza = full_harm(pwc_post_oza[i])"
   ]
  },
  {
   "cell_type": "code",
   "execution_count": 183,
   "id": "765cc497-5d34-446a-8604-597e9b2fedbc",
   "metadata": {},
   "outputs": [],
   "source": [
    "b1=[]\n",
    "b2 =[]\n",
    "b3=[]\n",
    "for i in range(len(pwc_post_anthro)):\n",
    "               test, test2, avg_anthro = full_harm(pwc_post_anthro[i])"
   ]
  },
  {
   "cell_type": "code",
   "execution_count": 184,
   "id": "14ae499f-d053-44a3-966d-37685d8f1bb8",
   "metadata": {},
   "outputs": [],
   "source": [
    "harm_full= [avg_full, avg_ghg, avg_oza, avg_anthro]"
   ]
  },
  {
   "cell_type": "code",
   "execution_count": 185,
   "id": "6e808882-9312-4701-b682-084b2d87218c",
   "metadata": {},
   "outputs": [
    {
     "ename": "SyntaxError",
     "evalue": "invalid syntax (1798344879.py, line 1)",
     "output_type": "error",
     "traceback": [
      "\u001b[0;36m  Cell \u001b[0;32mIn[185], line 1\u001b[0;36m\u001b[0m\n\u001b[0;31m    colors =\u001b[0m\n\u001b[0m             ^\u001b[0m\n\u001b[0;31mSyntaxError\u001b[0m\u001b[0;31m:\u001b[0m invalid syntax\n"
     ]
    }
   ],
   "source": [
    "colors = "
   ]
  },
  {
   "cell_type": "code",
   "execution_count": null,
   "id": "4e370043-973e-43d6-bfb4-10cdd489ee59",
   "metadata": {},
   "outputs": [],
   "source": [
    "def harm_plot(c):\n",
    "    #ax = fig.add_subplot(4,2, i+1)\n",
    "    plt.plot(x, c[i],  color = colors[i], label= var_name[i])\n",
    "    plt.xticks(np.arange(12), months, rotation=25) \n",
    "    plt.legend(bbox_to_anchor=(1, 0.5), loc='center left')\n",
    "    plt.ylabel(plt_ylabel)\n",
    "    plt.rcParams['font.size'] = '23'"
   ]
  },
  {
   "cell_type": "code",
   "execution_count": null,
   "id": "cd70cb86-2ad7-45ec-806d-21625eeeea3d",
   "metadata": {},
   "outputs": [],
   "source": [
    "fig = plt.figure(figsize=(15,15))\n",
    "fig.dpi = 600\n",
    "x = np.linspace(0,11,12)\n",
    "for i in range(len(harm_full)):\n",
    "    harm_plot(harm_full)\n",
    "plt.suptitle(variable + ' Post Industrial Climatology PWC Index (E-W)', fontsize=40)\n",
    "plt.subplots_adjust(hspace=0.5, wspace=2)\n",
    "plt.tight_layout()\n",
    "plt.savefig(variable + \"pwc_harm_post.jpg\")"
   ]
  },
  {
   "cell_type": "code",
   "execution_count": null,
   "id": "d1d46d80-3c9f-4ba5-a9bc-943f4de0fc64",
   "metadata": {},
   "outputs": [],
   "source": [
    "del harm_full\n",
    "del avg_full\n",
    "del avg_ghg\n",
    "#del avg_lulc\n",
    "del avg_oza\n",
    "del avg_anthro"
   ]
  },
  {
   "cell_type": "markdown",
   "id": "d6ed4966-219c-4a2e-adfb-b45dd461c2c3",
   "metadata": {
    "tags": []
   },
   "source": [
    "# East POST industrial Climatology"
   ]
  },
  {
   "cell_type": "code",
   "execution_count": null,
   "id": "a8d8f232-24ed-4c1a-916e-a928918f200d",
   "metadata": {
    "tags": []
   },
   "outputs": [],
   "source": [
    "b1=[]\n",
    "b2 =[]\n",
    "b3=[]\n",
    "for i in range(len(east_post)):\n",
    "               test, test2, avg_full = full_harm(east_post[i])"
   ]
  },
  {
   "cell_type": "code",
   "execution_count": null,
   "id": "4278e278-fb62-4983-a3c0-e3e60fc8d535",
   "metadata": {},
   "outputs": [],
   "source": [
    "b1=[]\n",
    "b2 =[]\n",
    "b3=[]\n",
    "for i in range(len(east_post_ghg)):\n",
    "               test, test2, avg_ghg = full_harm(east_post_ghg[i])"
   ]
  },
  {
   "cell_type": "code",
   "execution_count": null,
   "id": "60b1c3a6-2405-4ef6-bb27-2e1aad3124ab",
   "metadata": {},
   "outputs": [],
   "source": [
    "# b1=[]\n",
    "# b2 =[]\n",
    "# b3=[]\n",
    "# for i in range(len(east_post_lulc)):\n",
    "#                test, test2, avg_lulc = full_harm(east_post_lulc[i])"
   ]
  },
  {
   "cell_type": "code",
   "execution_count": null,
   "id": "72331485-0cd8-4fd8-9ff9-b2bdf79089fa",
   "metadata": {},
   "outputs": [],
   "source": [
    "b1=[]\n",
    "b2 =[]\n",
    "b3=[]\n",
    "for i in range(len(east_post_oza)):\n",
    "               test, test2, avg_oza = full_harm(east_post_oza[i])"
   ]
  },
  {
   "cell_type": "code",
   "execution_count": null,
   "id": "89e256dd-80c5-442c-9a24-2c8b75673a8c",
   "metadata": {},
   "outputs": [],
   "source": [
    "b1=[]\n",
    "b2 =[]\n",
    "b3=[]\n",
    "for i in range(len(east_post_anthro)):\n",
    "               test, test2, avg_anthro = full_harm(east_post_anthro[i])"
   ]
  },
  {
   "cell_type": "code",
   "execution_count": null,
   "id": "1fa5ab37-1627-48c3-9638-a623113b5e17",
   "metadata": {},
   "outputs": [],
   "source": [
    "harm_full= [avg_full,avg_ghg,avg_oza, avg_anthro]"
   ]
  },
  {
   "cell_type": "code",
   "execution_count": null,
   "id": "4c0482f3-e84e-43eb-9283-98023d1f8929",
   "metadata": {},
   "outputs": [],
   "source": [
    "fig = plt.figure(figsize=(15,15))\n",
    "fig.dpi = 600\n",
    "x = np.linspace(0,11,12)\n",
    "for i in range(len(harm_full)):\n",
    "    harm_plot(harm_full)\n",
    "plt.suptitle(variable + ' Post Industrial Climatology Eastern Pacific ', fontsize=40)\n",
    "plt.subplots_adjust(hspace=0.5, wspace=2)\n",
    "plt.tight_layout()\n",
    "plt.savefig(variable + \"east_harm_post.jpg\")"
   ]
  },
  {
   "cell_type": "code",
   "execution_count": null,
   "id": "139399a7-c907-49c6-9d1f-3a1da9b3f390",
   "metadata": {},
   "outputs": [],
   "source": [
    "del harm_full\n",
    "del avg_full\n",
    "del avg_ghg\n",
    "#del avg_lulc\n",
    "del avg_oza\n",
    "del avg_anthro"
   ]
  },
  {
   "cell_type": "markdown",
   "id": "e997f9fc-de13-463f-9a64-55f7b19245e7",
   "metadata": {
    "tags": []
   },
   "source": [
    "# West POST industrial Climatology"
   ]
  },
  {
   "cell_type": "code",
   "execution_count": null,
   "id": "4eb0012a-f0e2-40c2-bc87-f25eb6bf9ac0",
   "metadata": {
    "tags": []
   },
   "outputs": [],
   "source": [
    "b1=[]\n",
    "b2 =[]\n",
    "b3=[]\n",
    "for i in range(len(west_post)):\n",
    "               test, test2, avg_full = full_harm(west_post[i])"
   ]
  },
  {
   "cell_type": "code",
   "execution_count": null,
   "id": "0527d745-1c8b-4289-999e-b15829b9c881",
   "metadata": {},
   "outputs": [],
   "source": [
    "b1=[]\n",
    "b2 =[]\n",
    "b3=[]\n",
    "for i in range(len(west_post_ghg)):\n",
    "               test, test2, avg_ghg = full_harm(west_post_ghg[i])"
   ]
  },
  {
   "cell_type": "code",
   "execution_count": null,
   "id": "348715bf-8a91-4c04-b324-697b6a799456",
   "metadata": {},
   "outputs": [],
   "source": [
    "# b1=[]\n",
    "# b2 =[]\n",
    "# b3=[]\n",
    "# for i in range(len(west_post_lulc)):\n",
    "#                test, test2, avg_lulc = full_harm(west_post_lulc[i])"
   ]
  },
  {
   "cell_type": "code",
   "execution_count": null,
   "id": "7b55fc45-bc15-4b80-b1b4-65ab65c1e992",
   "metadata": {},
   "outputs": [],
   "source": [
    "b1=[]\n",
    "b2 =[]\n",
    "b3=[]\n",
    "for i in range(len(west_post_oza)):\n",
    "               test, test2, avg_oza = full_harm(west_post_oza[i])"
   ]
  },
  {
   "cell_type": "code",
   "execution_count": null,
   "id": "0d3002cf-d4ad-4dda-adcd-04436b908814",
   "metadata": {},
   "outputs": [],
   "source": [
    "b1=[]\n",
    "b2 =[]\n",
    "b3=[]\n",
    "for i in range(len(west_post_anthro)):\n",
    "               test, test2, avg_anthro = full_harm(west_post_anthro[i])"
   ]
  },
  {
   "cell_type": "code",
   "execution_count": null,
   "id": "8ba5f46a-a018-4109-9ad2-fc1b6c825759",
   "metadata": {},
   "outputs": [],
   "source": [
    "harm_full= [avg_full,avg_ghg,  avg_oza, avg_anthro]"
   ]
  },
  {
   "cell_type": "code",
   "execution_count": null,
   "id": "1065fb9e-7d47-4773-bb9d-6268f4981bec",
   "metadata": {},
   "outputs": [],
   "source": [
    "fig = plt.figure(figsize=(15,15))\n",
    "fig.dpi = 600\n",
    "x = np.linspace(0,11,12)\n",
    "for i in range(len(harm_full)):\n",
    "    harm_plot(harm_full)\n",
    "plt.suptitle(variable + ' Post Industrial Climatology Western Pacific ', fontsize=40)\n",
    "plt.subplots_adjust(hspace=0.5, wspace=2)\n",
    "plt.tight_layout()\n",
    "plt.savefig(variable + \"west_harm_post.jpg\")"
   ]
  },
  {
   "cell_type": "code",
   "execution_count": null,
   "id": "ca5a2124-191b-4536-bc71-4441050f9d97",
   "metadata": {},
   "outputs": [],
   "source": [
    "del harm_full\n",
    "del avg_full\n",
    "del avg_ghg\n",
    "#del avg_lulc\n",
    "del avg_oza\n",
    "del avg_anthro"
   ]
  },
  {
   "cell_type": "markdown",
   "id": "1bc526ff-17ec-4d36-8ab7-6bcfb073f3a4",
   "metadata": {
    "tags": []
   },
   "source": [
    "# Calculate PWC index Anomalgies calcualted relative to climatolofy"
   ]
  },
  {
   "cell_type": "code",
   "execution_count": null,
   "id": "1fd1fcfb-245a-4500-b47a-8e3f02d025fc",
   "metadata": {},
   "outputs": [],
   "source": [
    "pwc_post, east_post, west_post  = pwci(anom_var)\n",
    "pwc_post_ghg, east_post_ghg, west_post_ghg = pwci(anom_var_ghg)\n",
    "pwc_post_oza, east_post_oza, west_post_oza  = pwci(anom_var_oza)\n",
    "#pwc_post_lulc, east_post_lulc, west_post_lulc  = pwci(anom_var_lulc)\n",
    "pwc_post_anthro, east_post_anthro, west_post_anthro = pwci(anom_var_anthro)"
   ]
  },
  {
   "cell_type": "markdown",
   "id": "5c682abc-bd1c-44ee-9598-acc0a0037797",
   "metadata": {},
   "source": [
    "# PWC POST industrial Anomaly"
   ]
  },
  {
   "cell_type": "code",
   "execution_count": null,
   "id": "3d6707b1-d72b-487d-88e2-d605efec55d8",
   "metadata": {
    "tags": []
   },
   "outputs": [],
   "source": [
    "b1=[]\n",
    "b2 =[]\n",
    "b3=[]\n",
    "for i in range(len(pwc_post)):\n",
    "               test, test2, avg_full = full_harm(pwc_post[i])"
   ]
  },
  {
   "cell_type": "code",
   "execution_count": null,
   "id": "482b73ea-f004-4317-a503-a6161f74feb6",
   "metadata": {},
   "outputs": [],
   "source": [
    "b1=[]\n",
    "b2 =[]\n",
    "b3=[]\n",
    "for i in range(len(pwc_post_ghg)):\n",
    "               test, test2, avg_ghg = full_harm(pwc_post_ghg[i])"
   ]
  },
  {
   "cell_type": "code",
   "execution_count": null,
   "id": "45922f21-3e80-4b46-bf45-530edccca243",
   "metadata": {},
   "outputs": [],
   "source": [
    "# b1=[]\n",
    "# b2 =[]\n",
    "# b3=[]\n",
    "# for i in range(len(pwc_post_lulc)):\n",
    "#                test, test2, avg_lulc = full_harm(pwc_post_lulc[i])"
   ]
  },
  {
   "cell_type": "code",
   "execution_count": null,
   "id": "3f49b4f5-2e39-41a1-8c17-466d520321fa",
   "metadata": {},
   "outputs": [],
   "source": [
    "b1=[]\n",
    "b2 =[]\n",
    "b3=[]\n",
    "for i in range(len(pwc_post_oza)):\n",
    "               test, test2, avg_oza = full_harm(pwc_post_oza[i])"
   ]
  },
  {
   "cell_type": "code",
   "execution_count": null,
   "id": "482a56ba-5342-411d-9aea-d4b623c5f41a",
   "metadata": {},
   "outputs": [],
   "source": [
    "b1=[]\n",
    "b2 =[]\n",
    "b3=[]\n",
    "for i in range(len(pwc_post_anthro)):\n",
    "               test, test2, avg_anthro = full_harm(pwc_post_anthro[i])"
   ]
  },
  {
   "cell_type": "code",
   "execution_count": null,
   "id": "572451d9-fda4-454d-9636-22c1a5535158",
   "metadata": {},
   "outputs": [],
   "source": [
    "harm_full= [avg_full, avg_ghg, avg_oza, avg_anthro]"
   ]
  },
  {
   "cell_type": "code",
   "execution_count": null,
   "id": "58fbaa20-8104-4d17-b3ec-a3fc800eb629",
   "metadata": {},
   "outputs": [],
   "source": [
    "fig = plt.figure(figsize=(15,15))\n",
    "fig.dpi = 600\n",
    "x = np.linspace(0,11,12)\n",
    "for i in range(len(harm_full)):\n",
    "    harm_plot(harm_full)\n",
    "plt.suptitle(variable + ' Post Industrial Anomaly PWC Index (E-W)', fontsize=40)\n",
    "plt.subplots_adjust(hspace=0.5, wspace=2)\n",
    "plt.tight_layout()\n",
    "plt.savefig(variable + \"pwc_harm_post_anom.jpg\")"
   ]
  },
  {
   "cell_type": "code",
   "execution_count": null,
   "id": "f82c7edd-4e9b-487b-8197-af6e3c984722",
   "metadata": {},
   "outputs": [],
   "source": [
    "del harm_full\n",
    "del avg_full\n",
    "del avg_ghg\n",
    "#del avg_lulc\n",
    "del avg_oza\n",
    "del avg_anthro"
   ]
  },
  {
   "cell_type": "markdown",
   "id": "0377f5b9-4795-4147-824e-b5eb0ae163f3",
   "metadata": {},
   "source": [
    "# East POST industrial Anomaly"
   ]
  },
  {
   "cell_type": "code",
   "execution_count": null,
   "id": "03c474a2-fc68-4a67-9b1a-f09befe9b770",
   "metadata": {
    "tags": []
   },
   "outputs": [],
   "source": [
    "b1=[]\n",
    "b2 =[]\n",
    "b3=[]\n",
    "for i in range(len(east_post)):\n",
    "               test, test2, avg_full = full_harm(east_post[i])"
   ]
  },
  {
   "cell_type": "code",
   "execution_count": null,
   "id": "761aedef-3899-473f-a060-f06931498ff6",
   "metadata": {},
   "outputs": [],
   "source": [
    "b1=[]\n",
    "b2 =[]\n",
    "b3=[]\n",
    "for i in range(len(east_post_ghg)):\n",
    "               test, test2, avg_ghg = full_harm(east_post_ghg[i])"
   ]
  },
  {
   "cell_type": "code",
   "execution_count": null,
   "id": "e499738b-c6f4-48ae-a70a-9aee2275184f",
   "metadata": {},
   "outputs": [],
   "source": [
    "# b1=[]\n",
    "# b2 =[]\n",
    "# b3=[]\n",
    "# for i in range(len(east_post_lulc)):\n",
    "#                test, test2, avg_lulc = full_harm(east_post_lulc[i])"
   ]
  },
  {
   "cell_type": "code",
   "execution_count": null,
   "id": "ab484ff8-7fe0-4f6d-ae27-5b5e4cda5825",
   "metadata": {},
   "outputs": [],
   "source": [
    "b1=[]\n",
    "b2 =[]\n",
    "b3=[]\n",
    "for i in range(len(east_post_oza)):\n",
    "               test, test2, avg_oza = full_harm(east_post_oza[i])"
   ]
  },
  {
   "cell_type": "code",
   "execution_count": null,
   "id": "ee15901a-2394-4324-ac74-58be6f0bdcee",
   "metadata": {},
   "outputs": [],
   "source": [
    "b1=[]\n",
    "b2 =[]\n",
    "b3=[]\n",
    "for i in range(len(east_post_anthro)):\n",
    "               test, test2, avg_anthro= full_harm(east_post_anthro[i])"
   ]
  },
  {
   "cell_type": "code",
   "execution_count": null,
   "id": "ba2fc031-9cd0-4228-bebf-4ff37e2a84e2",
   "metadata": {},
   "outputs": [],
   "source": [
    "harm_full= [avg_full,avg_ghg, avg_oza, avg_anthro]"
   ]
  },
  {
   "cell_type": "code",
   "execution_count": null,
   "id": "ad176c26-2d6e-4139-b090-1b967d17067f",
   "metadata": {},
   "outputs": [],
   "source": [
    "fig = plt.figure(figsize=(15,15))\n",
    "fig.dpi = 600\n",
    "x = np.linspace(0,11,12)\n",
    "for i in range(len(harm_full)):\n",
    "    harm_plot(harm_full)\n",
    "plt.suptitle(variable + ' Post Industrial Anomaly Eastern Pacific ', fontsize=40)\n",
    "plt.subplots_adjust(hspace=0.5, wspace=2)\n",
    "plt.tight_layout()\n",
    "plt.savefig(variable + \"east_harm_post_anom.jpg\")"
   ]
  },
  {
   "cell_type": "code",
   "execution_count": null,
   "id": "e38bcbff-d31a-41e2-afaf-2669351eba19",
   "metadata": {},
   "outputs": [],
   "source": [
    "del harm_full\n",
    "del avg_full\n",
    "del avg_ghg\n",
    "#del avg_lulc\n",
    "del avg_oza\n",
    "del avg_anthro"
   ]
  },
  {
   "cell_type": "markdown",
   "id": "6e5f91c8-ffe5-4cb4-8b63-13a182e322d7",
   "metadata": {},
   "source": [
    "# West POST industrial Anomaly"
   ]
  },
  {
   "cell_type": "code",
   "execution_count": null,
   "id": "5f427b05-43d5-4e76-9ac5-7085a3641575",
   "metadata": {
    "tags": []
   },
   "outputs": [],
   "source": [
    "b1=[]\n",
    "b2 =[]\n",
    "b3=[]\n",
    "for i in range(len(west_post)):\n",
    "               test, test2, avg_full = full_harm(west_post[i])"
   ]
  },
  {
   "cell_type": "code",
   "execution_count": null,
   "id": "ab67376b-58f6-4e2c-ba8c-48cfcf62a846",
   "metadata": {},
   "outputs": [],
   "source": [
    "b1=[]\n",
    "b2 =[]\n",
    "b3=[]\n",
    "for i in range(len(west_post_ghg)):\n",
    "               test, test2, avg_ghg = full_harm(west_post_ghg[i])"
   ]
  },
  {
   "cell_type": "code",
   "execution_count": null,
   "id": "4acf557a-2ede-416e-8c77-b327dbd1661f",
   "metadata": {},
   "outputs": [],
   "source": [
    "# b1=[]\n",
    "# b2 =[]\n",
    "# b3=[]\n",
    "# for i in range(len(west_post_lulc)):\n",
    "#                test, test2, avg_lulc = full_harm(west_post_lulc[i])"
   ]
  },
  {
   "cell_type": "code",
   "execution_count": null,
   "id": "d3102ba2-1887-4654-914e-0537945d4094",
   "metadata": {},
   "outputs": [],
   "source": [
    "b1=[]\n",
    "b2 =[]\n",
    "b3=[]\n",
    "for i in range(len(west_post_oza)):\n",
    "               test, test2, avg_oza = full_harm(west_post_oza[i])"
   ]
  },
  {
   "cell_type": "code",
   "execution_count": null,
   "id": "4de559d1-2951-4968-8fa6-1b4cf7bfb527",
   "metadata": {},
   "outputs": [],
   "source": [
    "b1=[]\n",
    "b2 =[]\n",
    "b3=[]\n",
    "for i in range(len(west_post_anthro)):\n",
    "               test, test2, avg_anthro = full_harm(west_post_anthro[i])"
   ]
  },
  {
   "cell_type": "code",
   "execution_count": null,
   "id": "29aa3424-035a-4105-808a-44bfb03d1ee7",
   "metadata": {},
   "outputs": [],
   "source": [
    "harm_full= [avg_full, avg_ghg, avg_oza, avg_anthro]"
   ]
  },
  {
   "cell_type": "code",
   "execution_count": null,
   "id": "60493d0c-df51-4cd9-91b0-044648d20357",
   "metadata": {},
   "outputs": [],
   "source": [
    "fig = plt.figure(figsize=(15,15))\n",
    "fig.dpi = 600\n",
    "x = np.linspace(0,11,12)\n",
    "for i in range(len(harm_full)):\n",
    "    harm_plot(harm_full)\n",
    "plt.suptitle(variable + ' Post Industrial Anomaly Western Pacific ', fontsize=40)\n",
    "plt.subplots_adjust(hspace=0.5, wspace=2)\n",
    "plt.tight_layout()\n",
    "plt.savefig(variable + \"west_harm_post_anom.jpg\")"
   ]
  },
  {
   "cell_type": "code",
   "execution_count": null,
   "id": "25bc132b-7f8e-42d6-b3ba-99ebea3a0925",
   "metadata": {},
   "outputs": [],
   "source": [
    "del harm_full\n",
    "del avg_full\n",
    "del avg_ghg\n",
    "#del avg_lulc\n",
    "del avg_oza"
   ]
  },
  {
   "cell_type": "code",
   "execution_count": null,
   "id": "19d03f1d-daed-4f36-b0be-04dd4a4bfdfc",
   "metadata": {},
   "outputs": [],
   "source": [
    "from itertools import product\n",
    "from cftime import DatetimeNoLeap\n",
    "\n",
    "dates = [DatetimeNoLeap(year, month, 1) for year, month in product(range(1850, 2006), range(1, 13))]\n",
    "\n",
    "da = xr.DataArray(np.arange(1872), coords=[dates], dims=['time'], name='time')"
   ]
  },
  {
   "cell_type": "code",
   "execution_count": null,
   "id": "94017899-2369-4cb1-9f84-92399c38314a",
   "metadata": {},
   "outputs": [],
   "source": [
    "var_full = var.assign_coords({'time':(da.time)})\n",
    "var_ghg = var_ghg.assign_coords({'time':(da.time)})\n",
    "var_lulc = var_lulc.assign_coords({'time':(da.time)})\n",
    "var_oza = var_oza.assign_coords({'time':(da.time)})"
   ]
  },
  {
   "cell_type": "code",
   "execution_count": null,
   "id": "bc17e277-bfbd-419e-af9f-52fc396a03e2",
   "metadata": {},
   "outputs": [],
   "source": [
    "var_anthro = xr.concat([var_ghg, var_oza, var_lulc], dim = 'ensemble')"
   ]
  },
  {
   "cell_type": "code",
   "execution_count": null,
   "id": "c5116782-7947-4728-9786-b1e2cbef4cd7",
   "metadata": {},
   "outputs": [],
   "source": [
    "var_full = var_full *1000*24*3600\n",
    "var_ghg = var_ghg *1000*24*3600\n",
    "var_lulc = var_lulc*1000*24*3600\n",
    "var_oza = var_oza*1000*24*3600"
   ]
  },
  {
   "cell_type": "code",
   "execution_count": null,
   "id": "dcc3d6bf",
   "metadata": {},
   "outputs": [],
   "source": [
    "## Climatology Definition \n",
    "def clim(c): \n",
    "    clim_var = c.groupby('time.month').mean('time')\n",
    "    anom_var = c.groupby('time.month') - clim_var\n",
    "    anom_var= anom_var.compute()\n",
    "    return anom_var"
   ]
  },
  {
   "cell_type": "code",
   "execution_count": null,
   "id": "dc52599b",
   "metadata": {},
   "outputs": [],
   "source": [
    "def ensav(e):\n",
    "    ensav = e.mean(dim = 'ensemble')\n",
    "    return ensav"
   ]
  },
  {
   "cell_type": "code",
   "execution_count": null,
   "id": "247a5de9",
   "metadata": {},
   "outputs": [],
   "source": [
    "def weights(w):\n",
    "    weight= np.cos(np.deg2rad(w.lat))\n",
    "    weight.name = \"weights\"\n",
    "    var_weighted = w.weighted(weight)\n",
    "    return var_weighted"
   ]
  },
  {
   "cell_type": "code",
   "execution_count": null,
   "id": "92f25df0",
   "metadata": {},
   "outputs": [],
   "source": [
    "def pwci(c):\n",
    "    east = c.sel(lat=slice(-5,5), lon=slice(210,270))\n",
    "    west = c.sel(lat=slice(-5,5), lon=slice(90,150))\n",
    "    east_weight = weights(east)\n",
    "    west_weight = weights(west) \n",
    "    avg_east = east_weight.mean(('lat', 'lon'))\n",
    "    avg_west = west_weight.mean(('lat', 'lon'))\n",
    "    pwc = (avg_east- avg_west).compute()\n",
    "    \n",
    "    east_post = avg_east.groupby('time.month').mean('time')\n",
    "    west_post = avg_west.groupby('time.month').mean('time')\n",
    "    pwc_post = pwc.groupby('time.month').mean('time')\n",
    "    \n",
    "    return pwc_post, east_post, west_post"
   ]
  },
  {
   "cell_type": "code",
   "execution_count": null,
   "id": "0df2e9a3",
   "metadata": {},
   "outputs": [],
   "source": [
    "%%time\n",
    "anom_var = clim(var_full)\n",
    "anom_var_ghg = clim(var_ghg)\n",
    "#anom_var_lulc = clim(var_lulc)\n",
    "anom_var_oza = clim(var_oza)\n",
    "anom_var_anthro = clim(var_anthro)"
   ]
  },
  {
   "cell_type": "code",
   "execution_count": null,
   "id": "ef47d8b6",
   "metadata": {},
   "outputs": [],
   "source": [
    "pwc_post, east_post, west_post  = pwci(var_full)\n",
    "pwc_post_ghg, east_post_ghg, west_post_ghg = pwci(var_ghg)\n",
    "pwc_post_oza, east_post_oza, west_post_oza  = pwci(var_oza)\n",
    "#pwc_post_lulc, east_post_lulc, west_post_lulc  = pwci(var_lulc)\n",
    "pwc_post_anthro, east_post_anthro, west_post_anthro  = pwci(var_anthro)"
   ]
  },
  {
   "cell_type": "markdown",
   "id": "ded9a98e-4d2b-4360-9062-a285d9a91f29",
   "metadata": {
    "tags": []
   },
   "source": [
    "## Define functions to do Harmonic Analysis"
   ]
  }
 ],
 "metadata": {
  "kernelspec": {
   "display_name": "NPL 2024a",
   "language": "python",
   "name": "npl-2024a"
  },
  "language_info": {
   "codemirror_mode": {
    "name": "ipython",
    "version": 3
   },
   "file_extension": ".py",
   "mimetype": "text/x-python",
   "name": "python",
   "nbconvert_exporter": "python",
   "pygments_lexer": "ipython3",
   "version": "3.11.6"
  }
 },
 "nbformat": 4,
 "nbformat_minor": 5
}
